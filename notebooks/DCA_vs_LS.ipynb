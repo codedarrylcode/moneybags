{
 "cells": [
  {
   "cell_type": "markdown",
   "metadata": {},
   "source": [
    "# Dollar Cost Averaging (DCA) vs Lump Sum (LS)\n",
    "\n",
    "> If you had &#36;100K cash available in your bank and you are thinking of investing in a market index like the [S&P500](https://en.wikipedia.org/wiki/S%26P_500), then should you invest it &#36;10K for the next 10 months or &#36;100K today?\n",
    "\n",
    "If you are thinking of this question, then congratulations! You are one step ahead than most who would simply jump on the bandwagon and follow mainstream advice. \n",
    "\n",
    "We can rarely be certain about one choice over another in practice but we can gain confidence if we apply a rigorous analytical approach to our decision. Here, we look to test two investment strategie, for a fixed amount of &#36;100K on S&P500:\n",
    "\n",
    "1. **Dollar Cost Averaging** (DCA)\n",
    "2. **Lump Sum** (LS)\n",
    "\n",
    "These strategies will be tested over the following parameters:\n",
    "\n",
    "- **A large number of historical timepoints**: Such that the analysis can be generalized and answer probabilistic questions\n",
    "- **Length of investment period**: 1, 3, 5, 10, 15, 20, 30 years\n",
    "- **DCA periods**: What are the effects of investing, say &#36;10K for 10 months vs &#36;1K for 100 months (~8-9 years)?"
   ]
  },
  {
   "cell_type": "code",
   "execution_count": 1,
   "metadata": {},
   "outputs": [],
   "source": [
    "import pandas as pd\n",
    "import numpy as np"
   ]
  }
 ],
 "metadata": {
  "kernelspec": {
   "display_name": "moneybags",
   "language": "python",
   "name": "python3"
  },
  "language_info": {
   "codemirror_mode": {
    "name": "ipython",
    "version": 3
   },
   "file_extension": ".py",
   "mimetype": "text/x-python",
   "name": "python",
   "nbconvert_exporter": "python",
   "pygments_lexer": "ipython3",
   "version": "3.11.9"
  }
 },
 "nbformat": 4,
 "nbformat_minor": 2
}
