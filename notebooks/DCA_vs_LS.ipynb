{
 "cells": [
  {
   "cell_type": "markdown",
   "metadata": {},
   "source": [
    "# Dollar Cost Averaging (DCA) vs Lump Sum (LS)\n",
    "\n",
    "> If you had 100K cash available in your bank and you are thinking of investing in a market index like the [S&P500](https://en.wikipedia.org/wiki/S%26P_500), then should you invest it 10K for the next 10 months or 100K today?\n",
    "\n",
    "If you are thinking of this question, then congratulations! You are one step ahead than most who would simply jump on the bandwagon and follow mainstream advice. \n",
    "\n",
    "We can rarely be certain about one choice over another in practice but we can gain confidence if we apply a rigorous analytical approach to our decision. Here, we look to test two investment strategies, for a fixed amount of 100K on S&P500:\n",
    "\n",
    "1. **Dollar Cost Averaging** (DCA)\n",
    "2. **Lump Sum** (LS)\n",
    "\n",
    "These strategies will be tested over the following parameters:\n",
    "\n",
    "- **A large number of historical timepoints**: Such that the analysis can be generalized and answer probabilistic questions\n",
    "- **Length of investment period**: 1, 3, 5, 10, 15, 20, 30 years\n",
    "- **DCA periods**: What are the effects of investing, say 10K for 10 months vs 1K for 100 months (~8-9 years)?"
   ]
  },
  {
   "cell_type": "markdown",
   "metadata": {},
   "source": [
    "## Setup"
   ]
  },
  {
   "cell_type": "code",
   "execution_count": 1,
   "metadata": {},
   "outputs": [],
   "source": [
    "import pandas as pd\n",
    "import numpy as np\n",
    "import matplotlib.pyplot as plt\n",
    "import seaborn as sns\n",
    "import datetime\n",
    "import yfinance as yf\n",
    "\n",
    "sns.set_theme(style=\"ticks\", palette=\"pastel\")\n",
    "pd.options.display.float_format = \"{:,.2f}\".format"
   ]
  },
  {
   "cell_type": "code",
   "execution_count": null,
   "metadata": {},
   "outputs": [],
   "source": [
    "# Read S&P historical adjusted prices\n",
    "ticker = 'SPY'\n",
    "sp500 = (\n",
    "    yf\n",
    "    .Ticker(ticker)\n",
    "    .history(period = 'max')\n",
    "    # .reset_index()\n",
    "    .loc[:, ['Close']]\n",
    ")\n",
    "\n",
    "# Check data\n",
    "display(sp500.head())\n",
    "sp500.plot(title = 'S&P500 Adjusted Close Prices')\n",
    "plt.show()"
   ]
  },
  {
   "cell_type": "code",
   "execution_count": null,
   "metadata": {},
   "outputs": [],
   "source": [
    "# For backtest purposes, we fill non-working days with last prices\n",
    "backtest_df = (    \n",
    "    pd\n",
    "    .DataFrame(index = pd.date_range(sp500.index.min(), sp500.index.max()))\n",
    "    .rename_axis('Date')\n",
    "    .merge(sp500, left_index = True, right_index = True, how = 'left')\n",
    "    .ffill()\n",
    ")"
   ]
  },
  {
   "cell_type": "markdown",
   "metadata": {},
   "source": [
    "## Analyze"
   ]
  },
  {
   "cell_type": "code",
   "execution_count": null,
   "metadata": {},
   "outputs": [],
   "source": [
    "# Parameters\n",
    "timepoints = backtest_df.index.to_numpy()\n",
    "starting_cash = 100000\n",
    "bootstraps = 1000\n",
    "investment_periods = [1, 3, 5, 10, 15, 20] # in years\n",
    "dca_periods = np.arange(1, 5+1, 4)*12 # DCA periods for 1 year vs 5 years"
   ]
  },
  {
   "cell_type": "code",
   "execution_count": null,
   "metadata": {},
   "outputs": [],
   "source": [
    "def invest(prices, invest_dates, amount):\n",
    "    df = prices.copy()\n",
    "    df.loc[lambda x: x.index.isin(invest_dates), 'invested'] = float(amount) / float(len(invest_dates)) # Invest equal amounts\n",
    "    return df\n",
    "\n",
    "def compute_returns(df, starting_cash):\n",
    "    absolute_return = (df.invested * (1 + prices.returns)).sum() - starting_cash\n",
    "    end_cash = starting_cash + absolute_return\n",
    "    relative_return = (df.invested * (1 + prices.returns)).sum() / starting_cash - 1\n",
    "\n",
    "    return [end_cash, absolute_return, relative_return]"
   ]
  },
  {
   "cell_type": "code",
   "execution_count": null,
   "metadata": {},
   "outputs": [],
   "source": [
    "# Backtest\n",
    "results = []\n",
    "for investment_period in investment_periods:\n",
    "    for _ in range(bootstraps):\n",
    "        # Get key points\n",
    "        max_start_point = timepoints.max() - pd.DateOffset(years = investment_period)\n",
    "        possible_start_points = timepoints[timepoints <= max_start_point]\n",
    "        start_point = np.random.choice(possible_start_points)\n",
    "        end_point = start_point + pd.DateOffset(years = investment_period)\n",
    "\n",
    "        # Get prices\n",
    "        prices = (\n",
    "            backtest_df\n",
    "            .loc[lambda x: (x.index >= start_point) & (x.index <= end_point)]\n",
    "            .assign(\n",
    "                returns = lambda x: x.iloc[-1].Close / x.Close - 1,\n",
    "                invested = 0.00,\n",
    "            )\n",
    "            .copy()\n",
    "        )\n",
    "\n",
    "        # Invest lump-sum\n",
    "        lump_sum = invest(prices, [start_point], starting_cash)\n",
    "\n",
    "        # Compute returns\n",
    "        ls_returns = compute_returns(lump_sum, starting_cash)\n",
    "\n",
    "        # Store results\n",
    "        results.append([start_point, end_point, investment_period, 'LS', starting_cash,] + ls_returns)\n",
    "\n",
    "        # Invest DCA\n",
    "        dcas = []\n",
    "        for dca_period in dca_periods:\n",
    "            invest_dates = pd.date_range(start_point, start_point + pd.DateOffset(months = dca_period), freq = 'BME')\n",
    "            dca = invest(prices, invest_dates, starting_cash)\n",
    "            dca_returns = compute_returns(dca, starting_cash)\n",
    "            results.append([start_point, end_point, investment_period, f'DCA{dca_period}', starting_cash, ] + dca_returns)"
   ]
  },
  {
   "cell_type": "code",
   "execution_count": null,
   "metadata": {},
   "outputs": [],
   "source": [
    "# Store results\n",
    "backtest = (\n",
    "    pd\n",
    "    .DataFrame(\n",
    "        np.array(results), \n",
    "        columns = ['start_date', 'end_date', 'years', 'strategy', 'start_cash', 'end_cash', 'abs_return', 'pct_return'],\n",
    "    )\n",
    ")"
   ]
  },
  {
   "cell_type": "markdown",
   "metadata": {},
   "source": [
    "## Evaluate"
   ]
  },
  {
   "cell_type": "code",
   "execution_count": null,
   "metadata": {},
   "outputs": [],
   "source": [
    "# Compare by investment years and strategy\n",
    "g = sns.catplot(data = backtest, x = 'strategy', y = 'pct_return', hue = 'strategy', col = 'years', aspect = 0.4)\n",
    "\n",
    "# Set grid and y-axis to percentage\n",
    "for i, ax in enumerate(g.axes.flatten()):\n",
    "    ax.grid(visible = True, axis = 'y')\n",
    "    if i == 0:\n",
    "        labels = [f'{x:.0%}' for x in ax.get_yticks()]\n",
    "        ax.set_yticklabels(labels)\n",
    "\n",
    "plt.show()"
   ]
  },
  {
   "cell_type": "code",
   "execution_count": null,
   "metadata": {},
   "outputs": [],
   "source": [
    "# Report statistics\n",
    "confidence = 99\n",
    "(\n",
    "    backtest\n",
    "    .groupby(['strategy', 'years'])\n",
    "    .agg(\n",
    "        {\n",
    "            'pct_return': ['mean', 'min', 'max', lambda x: np.percentile(x, 100-confidence), lambda x: np.percentile(x, confidence)]\n",
    "        }\n",
    "    )\n",
    "    .reset_index()\n",
    "    .set_axis(['strategy', 'years', 'x_return', 'min', 'max', f'{100-confidence}%', f'{confidence}%'], axis = 1)\n",
    "    .pivot_table(index = 'years', columns = 'strategy', values = ['x_return', '1%', '99%'])\n",
    "    + 1\n",
    ") * starting_cash"
   ]
  }
 ],
 "metadata": {
  "kernelspec": {
   "display_name": "moneybags",
   "language": "python",
   "name": "python3"
  },
  "language_info": {
   "codemirror_mode": {
    "name": "ipython",
    "version": 3
   },
   "file_extension": ".py",
   "mimetype": "text/x-python",
   "name": "python",
   "nbconvert_exporter": "python",
   "pygments_lexer": "ipython3",
   "version": "3.11.9"
  }
 },
 "nbformat": 4,
 "nbformat_minor": 2
}
